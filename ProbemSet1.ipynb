{
 "cells": [
  {
   "cell_type": "markdown",
   "id": "17e40fe3-7546-4966-9a02-bf388b081f66",
   "metadata": {},
   "source": [
    "# Problem Set 1"
   ]
  },
  {
   "cell_type": "markdown",
   "id": "0529b775-1712-45f3-8a9d-e34ca69ba3cb",
   "metadata": {},
   "source": [
    "###  - - - - - - - - - - - - - - - - - - - - - - - -  Use C# kernel  - - - - - - - - - - - - - - - - - - - - - - - -"
   ]
  },
  {
   "cell_type": "markdown",
   "id": "996f3d36-4898-499d-a46a-69aa4bd4d9c4",
   "metadata": {},
   "source": [
    "## Question 1 C#"
   ]
  },
  {
   "cell_type": "code",
   "execution_count": 1,
   "id": "814f1744-12aa-4ef0-ab88-765455fc9c40",
   "metadata": {},
   "outputs": [
    {
     "data": {
      "text/html": [
       "\r\n",
       "<div>\r\n",
       "    <div id='dotnet-interactive-this-cell-8101.Microsoft.DotNet.Interactive.Http.HttpPort' style='display: none'>\r\n",
       "        The below script needs to be able to find the current output cell; this is an easy method to get it.\r\n",
       "    </div>\r\n",
       "    <script type='text/javascript'>\r\n",
       "async function probeAddresses(probingAddresses) {\r\n",
       "    function timeout(ms, promise) {\r\n",
       "        return new Promise(function (resolve, reject) {\r\n",
       "            setTimeout(function () {\r\n",
       "                reject(new Error('timeout'))\r\n",
       "            }, ms)\r\n",
       "            promise.then(resolve, reject)\r\n",
       "        })\r\n",
       "    }\r\n",
       "\r\n",
       "    if (Array.isArray(probingAddresses)) {\r\n",
       "        for (let i = 0; i < probingAddresses.length; i++) {\r\n",
       "\r\n",
       "            let rootUrl = probingAddresses[i];\r\n",
       "\r\n",
       "            if (!rootUrl.endsWith('/')) {\r\n",
       "                rootUrl = `${rootUrl}/`;\r\n",
       "            }\r\n",
       "\r\n",
       "            try {\r\n",
       "                let response = await timeout(1000, fetch(`${rootUrl}discovery`, {\r\n",
       "                    method: 'POST',\r\n",
       "                    cache: 'no-cache',\r\n",
       "                    mode: 'cors',\r\n",
       "                    timeout: 1000,\r\n",
       "                    headers: {\r\n",
       "                        'Content-Type': 'text/plain'\r\n",
       "                    },\r\n",
       "                    body: probingAddresses[i]\r\n",
       "                }));\r\n",
       "\r\n",
       "                if (response.status == 200) {\r\n",
       "                    return rootUrl;\r\n",
       "                }\r\n",
       "            }\r\n",
       "            catch (e) { }\r\n",
       "        }\r\n",
       "    }\r\n",
       "}\r\n",
       "\r\n",
       "function loadDotnetInteractiveApi() {\r\n",
       "    probeAddresses([\"http://172.20.10.2:2049/\", \"http://127.0.0.1:2049/\"])\r\n",
       "        .then((root) => {\r\n",
       "        // use probing to find host url and api resources\r\n",
       "        // load interactive helpers and language services\r\n",
       "        let dotnetInteractiveRequire = require.config({\r\n",
       "        context: '8101.Microsoft.DotNet.Interactive.Http.HttpPort',\r\n",
       "                paths:\r\n",
       "            {\r\n",
       "                'dotnet-interactive': `${root}resources`\r\n",
       "                }\r\n",
       "        }) || require;\r\n",
       "\r\n",
       "            window.dotnetInteractiveRequire = dotnetInteractiveRequire;\r\n",
       "\r\n",
       "            window.configureRequireFromExtension = function(extensionName, extensionCacheBuster) {\r\n",
       "                let paths = {};\r\n",
       "                paths[extensionName] = `${root}extensions/${extensionName}/resources/`;\r\n",
       "                \r\n",
       "                let internalRequire = require.config({\r\n",
       "                    context: extensionCacheBuster,\r\n",
       "                    paths: paths,\r\n",
       "                    urlArgs: `cacheBuster=${extensionCacheBuster}`\r\n",
       "                    }) || require;\r\n",
       "\r\n",
       "                return internalRequire\r\n",
       "            };\r\n",
       "        \r\n",
       "            dotnetInteractiveRequire([\r\n",
       "                    'dotnet-interactive/dotnet-interactive'\r\n",
       "                ],\r\n",
       "                function (dotnet) {\r\n",
       "                    dotnet.init(window);\r\n",
       "                },\r\n",
       "                function (error) {\r\n",
       "                    console.log(error);\r\n",
       "                }\r\n",
       "            );\r\n",
       "        })\r\n",
       "        .catch(error => {console.log(error);});\r\n",
       "    }\r\n",
       "\r\n",
       "// ensure `require` is available globally\r\n",
       "if ((typeof(require) !==  typeof(Function)) || (typeof(require.config) !== typeof(Function))) {\r\n",
       "    let require_script = document.createElement('script');\r\n",
       "    require_script.setAttribute('src', 'https://cdnjs.cloudflare.com/ajax/libs/require.js/2.3.6/require.min.js');\r\n",
       "    require_script.setAttribute('type', 'text/javascript');\r\n",
       "    \r\n",
       "    \r\n",
       "    require_script.onload = function() {\r\n",
       "        loadDotnetInteractiveApi();\r\n",
       "    };\r\n",
       "\r\n",
       "    document.getElementsByTagName('head')[0].appendChild(require_script);\r\n",
       "}\r\n",
       "else {\r\n",
       "    loadDotnetInteractiveApi();\r\n",
       "}\r\n",
       "\r\n",
       "    </script>\r\n",
       "</div>"
      ]
     },
     "metadata": {},
     "output_type": "display_data"
    },
    {
     "data": {
      "text/html": [
       "<span><a href=\"https://docs.microsoft.com/dotnet/api/system.int32?view=net-7.0\">System.Int32</a></span>"
      ]
     },
     "execution_count": 1,
     "metadata": {},
     "output_type": "execute_result"
    }
   ],
   "source": [
    "5.GetType()        "
   ]
  },
  {
   "cell_type": "code",
   "execution_count": 3,
   "id": "07812538-4179-4789-889a-e2fb01302b98",
   "metadata": {},
   "outputs": [
    {
     "data": {
      "text/html": [
       "<span><a href=\"https://docs.microsoft.com/dotnet/api/system.boolean?view=net-7.0\">System.Boolean</a></span>"
      ]
     },
     "execution_count": 3,
     "metadata": {},
     "output_type": "execute_result"
    }
   ],
   "source": [
    "(5 > 1).GetType()"
   ]
  },
  {
   "cell_type": "code",
   "execution_count": 5,
   "id": "41854559-d5e0-46ef-8e8c-499a1d18d075",
   "metadata": {},
   "outputs": [
    {
     "data": {
      "text/html": [
       "<span><a href=\"https://docs.microsoft.com/dotnet/api/system.char?view=net-7.0\">System.Char</a></span>"
      ]
     },
     "execution_count": 5,
     "metadata": {},
     "output_type": "execute_result"
    }
   ],
   "source": [
    "'5'.GetType()"
   ]
  },
  {
   "cell_type": "code",
   "execution_count": 7,
   "id": "8ed21d09-de29-4257-86c0-4efc89147cbd",
   "metadata": {},
   "outputs": [
    {
     "data": {
      "text/html": [
       "<span><a href=\"https://docs.microsoft.com/dotnet/api/system.int32?view=net-7.0\">System.Int32</a></span>"
      ]
     },
     "execution_count": 7,
     "metadata": {},
     "output_type": "execute_result"
    }
   ],
   "source": [
    "(5 * 2).GetType()"
   ]
  },
  {
   "cell_type": "code",
   "execution_count": 9,
   "id": "586dfea4-09bb-48b5-83f9-bce3b7dad3ca",
   "metadata": {},
   "outputs": [
    {
     "data": {
      "text/html": [
       "<span><a href=\"https://docs.microsoft.com/dotnet/api/system.int32?view=net-7.0\">System.Int32</a></span>"
      ]
     },
     "execution_count": 9,
     "metadata": {},
     "output_type": "execute_result"
    }
   ],
   "source": [
    "('5' * 2).GetType()"
   ]
  },
  {
   "cell_type": "code",
   "execution_count": 13,
   "id": "0ab926cd-1c7d-451f-901b-b539cf5460a8",
   "metadata": {},
   "outputs": [
    {
     "data": {
      "text/html": [
       "<span><a href=\"https://docs.microsoft.com/dotnet/api/system.int32?view=net-7.0\">System.Int32</a></span>"
      ]
     },
     "execution_count": 13,
     "metadata": {},
     "output_type": "execute_result"
    }
   ],
   "source": [
    "('5' + '2').GetType()"
   ]
  },
  {
   "cell_type": "code",
   "execution_count": 15,
   "id": "ee3c3ba5-2dd2-4cef-9bfb-9c02c43c44e6",
   "metadata": {},
   "outputs": [
    {
     "data": {
      "text/html": [
       "<span><a href=\"https://docs.microsoft.com/dotnet/api/system.int32?view=net-7.0\">System.Int32</a></span>"
      ]
     },
     "execution_count": 15,
     "metadata": {},
     "output_type": "execute_result"
    }
   ],
   "source": [
    "(5 / 2).GetType()"
   ]
  },
  {
   "cell_type": "code",
   "execution_count": 17,
   "id": "f91666e0-1399-4581-9c1e-862fee9a316c",
   "metadata": {},
   "outputs": [
    {
     "data": {
      "text/html": [
       "<span><a href=\"https://docs.microsoft.com/dotnet/api/system.int32?view=net-7.0\">System.Int32</a></span>"
      ]
     },
     "execution_count": 17,
     "metadata": {},
     "output_type": "execute_result"
    }
   ],
   "source": [
    "(5 % 2).GetType()"
   ]
  },
  {
   "cell_type": "code",
   "execution_count": 19,
   "id": "ae50c343-9f37-4393-a611-2bccc5ddfaa3",
   "metadata": {},
   "outputs": [
    {
     "data": {
      "text/html": [
       "<span><a href=\"https://docs.microsoft.com/dotnet/api/system.int32[]?view=net-7.0\">System.Int32[]</a></span>"
      ]
     },
     "execution_count": 19,
     "metadata": {},
     "output_type": "execute_result"
    }
   ],
   "source": [
    "(new int[] {5, 2, 1}).GetType()"
   ]
  },
  {
   "cell_type": "code",
   "execution_count": 21,
   "id": "4e4edbf1-a718-4539-ae14-dd100621526b",
   "metadata": {},
   "outputs": [
    {
     "data": {
      "text/html": [
       "<span><a href=\"https://docs.microsoft.com/dotnet/api/system.boolean?view=net-7.0\">System.Boolean</a></span>"
      ]
     },
     "execution_count": 21,
     "metadata": {},
     "output_type": "execute_result"
    }
   ],
   "source": [
    "(5 == 3).GetType()"
   ]
  },
  {
   "cell_type": "code",
   "execution_count": 23,
   "id": "c53f3383-06e4-4308-acff-a2cbc3b58a6e",
   "metadata": {},
   "outputs": [
    {
     "data": {
      "text/html": [
       "<span><a href=\"https://docs.microsoft.com/dotnet/api/system.double?view=net-7.0\">System.Double</a></span>"
      ]
     },
     "execution_count": 23,
     "metadata": {},
     "output_type": "execute_result"
    }
   ],
   "source": [
    "Math.PI.GetType()"
   ]
  },
  {
   "cell_type": "markdown",
   "id": "46f9022b-5b25-4183-86a9-c85ee34387d5",
   "metadata": {},
   "source": [
    "## Question 2 C#"
   ]
  },
  {
   "cell_type": "markdown",
   "id": "90aa7064-c97f-4efa-a726-974f0d6037f3",
   "metadata": {},
   "source": [
    "#### a. How many letters are there in 'Supercalifragilisticexpialidocious'?"
   ]
  },
  {
   "cell_type": "code",
   "execution_count": 5,
   "id": "f3ebeb53-5eed-43d1-83db-3852b03cf70a",
   "metadata": {
    "scrolled": true
   },
   "outputs": [
    {
     "name": "stdout",
     "output_type": "stream",
     "text": [
      "There are 34 letters in 'Supercalifragilisticexpialidocious'\n"
     ]
    }
   ],
   "source": [
    "string word = \"Supercalifragilisticexpialidocious\";\n",
    "int letterCount = word.Length;\n",
    "Console.WriteLine($\"There are {letterCount} letters in 'Supercalifragilisticexpialidocious'\");"
   ]
  },
  {
   "cell_type": "markdown",
   "id": "6d67a129-de05-4def-9c5a-ff01bcf96011",
   "metadata": {},
   "source": [
    "#### b. Does 'Supercalifragilisticexpialidocious' contain 'ice' as a substring?"
   ]
  },
  {
   "cell_type": "code",
   "execution_count": 8,
   "id": "68371a21-c8b9-411d-bea5-3a08c6cb1bfd",
   "metadata": {},
   "outputs": [
    {
     "name": "stdout",
     "output_type": "stream",
     "text": [
      "Yes, 'Supercalifragilisticexpialidocious' contain 'ice' as a substring\n"
     ]
    }
   ],
   "source": [
    "bool containsIce = word.Contains(\"ice\");\n",
    "\n",
    "if(containsIce) {\n",
    "    Console.WriteLine(\"Yes, 'Supercalifragilisticexpialidocious' contain 'ice' as a substring\");\n",
    "}\n",
    "else {\n",
    "    Console.WriteLine(\"No, 'Supercalifragilisticexpialidocious' doesn't contain 'ice' as a substring\");\n",
    "}"
   ]
  },
  {
   "cell_type": "markdown",
   "id": "19da9c17-b279-45a4-8090-47a540338335",
   "metadata": {},
   "source": [
    "#### c. Which of the following words is the longest?"
   ]
  },
  {
   "cell_type": "code",
   "execution_count": 11,
   "id": "ce5f7c9e-f7cc-4bc6-a117-69f90b942df8",
   "metadata": {},
   "outputs": [
    {
     "name": "stdout",
     "output_type": "stream",
     "text": [
      "The longest word is:  Supercalifragilisticexpialidocious\n"
     ]
    }
   ],
   "source": [
    "string word1 = \"Supercalifragilisticexpialidocious\";\n",
    "string word2 = \"Honorificabilitudinitatibus\";\n",
    "string word3 = \"Bababadalgharaghtakamminarronnkonn\";\n",
    "\n",
    "string longestWord = word1;\n",
    "\n",
    "if (word2.Length > longestWord.Length)\n",
    "    longestWord = word2;\n",
    "\n",
    "if (word3.Length > longestWord.Length)\n",
    "    longestWord = word3;\n",
    "\n",
    "Console.WriteLine($\"The longest word is:  {longestWord}\");"
   ]
  },
  {
   "cell_type": "markdown",
   "id": "c17fc88b-c31f-4670-8b33-668220432dd9",
   "metadata": {},
   "source": [
    "#### d. Which composer comes first and last in the dictionary?"
   ]
  },
  {
   "cell_type": "code",
   "execution_count": 14,
   "id": "412da293-cd94-4f96-948d-93c7fddeb705",
   "metadata": {},
   "outputs": [
    {
     "name": "stdout",
     "output_type": "stream",
     "text": [
      "The first Composer is: Bartok\n",
      "The last Composer is:  Buxtehude\n"
     ]
    }
   ],
   "source": [
    "string[] composers = { \"Berlioz\", \"Borodin\", \"Brian\", \"Bartok\", \"Bellini\", \"Buxtehude\", \"Bernstein\" };\n",
    "\n",
    "Array.Sort(composers);\n",
    "\n",
    "string firstComposer = composers[0];\n",
    "string lastComposer = composers[composers.Length - 1];\n",
    "\n",
    "Console.WriteLine($\"The first Composer is: {firstComposer}\");\n",
    "\n",
    "Console.WriteLine($\"The last Composer is:  {lastComposer}\");"
   ]
  },
  {
   "cell_type": "markdown",
   "id": "ebdc0413-6e5b-49cc-8d37-858ef9baf544",
   "metadata": {},
   "source": [
    "## Question 3 C#"
   ]
  },
  {
   "cell_type": "code",
   "execution_count": 35,
   "id": "5a6e76c4-e225-4020-99ac-f523de5cb204",
   "metadata": {},
   "outputs": [
    {
     "data": {
      "text/html": [
       "<div class=\"dni-plaintext\"><pre>1.7320508075688772</pre></div><style>\r\n",
       ".dni-code-hint {\r\n",
       "    font-style: italic;\r\n",
       "    overflow: hidden;\r\n",
       "    white-space: nowrap;\r\n",
       "}\r\n",
       ".dni-treeview {\r\n",
       "    white-space: nowrap;\r\n",
       "}\r\n",
       ".dni-treeview td {\r\n",
       "    vertical-align: top;\r\n",
       "    text-align: start;\r\n",
       "}\r\n",
       "details.dni-treeview {\r\n",
       "    padding-left: 1em;\r\n",
       "}\r\n",
       "table td {\r\n",
       "    text-align: start;\r\n",
       "}\r\n",
       "table tr { \r\n",
       "    vertical-align: top; \r\n",
       "    margin: 0em 0px;\r\n",
       "}\r\n",
       "table tr td pre \r\n",
       "{ \r\n",
       "    vertical-align: top !important; \r\n",
       "    margin: 0em 0px !important;\r\n",
       "} \r\n",
       "table th {\r\n",
       "    text-align: start;\r\n",
       "}\r\n",
       "</style>"
      ]
     },
     "execution_count": 35,
     "metadata": {},
     "output_type": "execute_result"
    }
   ],
   "source": [
    "static double triangleArea(double a, double b, double c)\n",
    "    {\n",
    "        // Calculate semi-perimeter\n",
    "        double s = (a + b + c) / 2;\n",
    "\n",
    "        // Calculate area using Heron's formula\n",
    "        double area = Math.Sqrt(s * (s - a) * (s - b) * (s - c));\n",
    "\n",
    "        return area;\n",
    "    }\n",
    "\n",
    "triangleArea(2, 2, 2)"
   ]
  },
  {
   "cell_type": "markdown",
   "id": "bd23ed0c-0daa-4340-a770-8ecf983dfca2",
   "metadata": {},
   "source": [
    "## Question 4 C#\n",
    "\n",
    "#### NOTE:\n",
    "- As mentioned in the question, we need to run this code in an Editor running in Jupyter Notebook cannot take user inputs"
   ]
  },
  {
   "cell_type": "code",
   "execution_count": null,
   "id": "0a041cef-7dd4-4edf-8c68-215954864ce1",
   "metadata": {},
   "outputs": [],
   "source": [
    "// Don't run this cell in Jupyter. Run this code in editor\n",
    "\n",
    "using System;\n",
    "\n",
    "class Program\n",
    "{\n",
    "    static void Main()\n",
    "    {\n",
    "        Console.Write(\"Input the number of elements to be stored in the array: \");\n",
    "        int n = Convert.ToInt32(Console.ReadLine());\n",
    "\n",
    "        int[] numbers = new int[n];\n",
    "        int[] evenNumbers = new int[n];\n",
    "        int[] oddNumbers = new int[n];\n",
    "\n",
    "        int evenCount = 0, oddCount = 0;\n",
    "\n",
    "        // Input elements into the array\n",
    "        for (int i = 0; i < n; i++)\n",
    "        {\n",
    "            Console.Write($\"Element - {i}: \");\n",
    "            numbers[i] = Convert.ToInt32(Console.ReadLine());\n",
    "\n",
    "            // Separate even and odd numbers\n",
    "            if (numbers[i] % 2 == 0)\n",
    "            {\n",
    "                evenNumbers[evenCount++] = numbers[i];\n",
    "            }\n",
    "            else\n",
    "            {\n",
    "                oddNumbers[oddCount++] = numbers[i];\n",
    "            }\n",
    "        }\n",
    "\n",
    "        // Show the Array of even numbers\n",
    "        Console.WriteLine(\"The Even elements are:\");\n",
    "        for (int i = 0; i < evenCount; i++)\n",
    "        {\n",
    "            Console.Write(evenNumbers[i] + \" \");\n",
    "        }\n",
    "        Console.WriteLine();\n",
    "\n",
    "        // Show the Array of odd numbers\n",
    "        Console.WriteLine(\"The Odd elements are:\");\n",
    "        for (int i = 0; i < oddCount; i++)\n",
    "        {\n",
    "            Console.Write(oddNumbers[i] + \" \");\n",
    "        }\n",
    "        Console.WriteLine();\n",
    "    }\n",
    "}"
   ]
  },
  {
   "attachments": {
    "30a06237-95f4-4862-ac5a-ff4aa97e3109.png": {
     "image/png": "[encoded data removed]"
    }
   },
   "cell_type": "markdown",
   "id": "c321592c-ab96-441e-b27a-11835e9cfc41",
   "metadata": {},
   "source": [
    "#### Screenshot of the output from online C# editor\n",
    "![output-4.png](attachment:30a06237-95f4-4862-ac5a-ff4aa97e3109.png)"
   ]
  },
  {
   "cell_type": "markdown",
   "id": "cdb9b4f1-7633-4e79-8bc0-5dbd69f00e6d",
   "metadata": {},
   "source": [
    "## Question 5 C#"
   ]
  },
  {
   "cell_type": "markdown",
   "id": "11943900-88da-48f6-820a-fefb7d72df80",
   "metadata": {},
   "source": [
    "### Part A"
   ]
  },
  {
   "cell_type": "code",
   "execution_count": 37,
   "id": "dcc5b4eb-3d2e-44f4-9bbf-e871da794324",
   "metadata": {},
   "outputs": [
    {
     "data": {
      "text/html": [
       "<div class=\"dni-plaintext\"><pre>True</pre></div><style>\r\n",
       ".dni-code-hint {\r\n",
       "    font-style: italic;\r\n",
       "    overflow: hidden;\r\n",
       "    white-space: nowrap;\r\n",
       "}\r\n",
       ".dni-treeview {\r\n",
       "    white-space: nowrap;\r\n",
       "}\r\n",
       ".dni-treeview td {\r\n",
       "    vertical-align: top;\r\n",
       "    text-align: start;\r\n",
       "}\r\n",
       "details.dni-treeview {\r\n",
       "    padding-left: 1em;\r\n",
       "}\r\n",
       "table td {\r\n",
       "    text-align: start;\r\n",
       "}\r\n",
       "table tr { \r\n",
       "    vertical-align: top; \r\n",
       "    margin: 0em 0px;\r\n",
       "}\r\n",
       "table tr td pre \r\n",
       "{ \r\n",
       "    vertical-align: top !important; \r\n",
       "    margin: 0em 0px !important;\r\n",
       "} \r\n",
       "table th {\r\n",
       "    text-align: start;\r\n",
       "}\r\n",
       "</style>"
      ]
     },
     "execution_count": 37,
     "metadata": {},
     "output_type": "execute_result"
    }
   ],
   "source": [
    "static bool inside(double x, double y, double x1, double y1, double x2, double y2)\n",
    "{\n",
    "    return x1 <= x && x <= x2 && y1 <= y && y <= y2;\n",
    "}\n",
    "\n",
    "inside(1, 1, 0, 0, 2, 3)"
   ]
  },
  {
   "cell_type": "code",
   "execution_count": 39,
   "id": "96b8af8e-edf9-4050-8777-608c180d14c8",
   "metadata": {},
   "outputs": [
    {
     "data": {
      "text/html": [
       "<div class=\"dni-plaintext\"><pre>False</pre></div><style>\r\n",
       ".dni-code-hint {\r\n",
       "    font-style: italic;\r\n",
       "    overflow: hidden;\r\n",
       "    white-space: nowrap;\r\n",
       "}\r\n",
       ".dni-treeview {\r\n",
       "    white-space: nowrap;\r\n",
       "}\r\n",
       ".dni-treeview td {\r\n",
       "    vertical-align: top;\r\n",
       "    text-align: start;\r\n",
       "}\r\n",
       "details.dni-treeview {\r\n",
       "    padding-left: 1em;\r\n",
       "}\r\n",
       "table td {\r\n",
       "    text-align: start;\r\n",
       "}\r\n",
       "table tr { \r\n",
       "    vertical-align: top; \r\n",
       "    margin: 0em 0px;\r\n",
       "}\r\n",
       "table tr td pre \r\n",
       "{ \r\n",
       "    vertical-align: top !important; \r\n",
       "    margin: 0em 0px !important;\r\n",
       "} \r\n",
       "table th {\r\n",
       "    text-align: start;\r\n",
       "}\r\n",
       "</style>"
      ]
     },
     "execution_count": 39,
     "metadata": {},
     "output_type": "execute_result"
    }
   ],
   "source": [
    "inside(-1, -1, 0, 0, 2, 3)"
   ]
  },
  {
   "cell_type": "markdown",
   "id": "7f023e0c-c92c-40ae-8c7f-61ff8dcefcd2",
   "metadata": {},
   "source": [
    "### Part B"
   ]
  },
  {
   "cell_type": "code",
   "execution_count": 41,
   "id": "16b25ad5-3650-4b26-b64a-e58aafdd97e7",
   "metadata": {},
   "outputs": [
    {
     "data": {
      "text/html": [
       "<div class=\"dni-plaintext\"><pre>False</pre></div><style>\r\n",
       ".dni-code-hint {\r\n",
       "    font-style: italic;\r\n",
       "    overflow: hidden;\r\n",
       "    white-space: nowrap;\r\n",
       "}\r\n",
       ".dni-treeview {\r\n",
       "    white-space: nowrap;\r\n",
       "}\r\n",
       ".dni-treeview td {\r\n",
       "    vertical-align: top;\r\n",
       "    text-align: start;\r\n",
       "}\r\n",
       "details.dni-treeview {\r\n",
       "    padding-left: 1em;\r\n",
       "}\r\n",
       "table td {\r\n",
       "    text-align: start;\r\n",
       "}\r\n",
       "table tr { \r\n",
       "    vertical-align: top; \r\n",
       "    margin: 0em 0px;\r\n",
       "}\r\n",
       "table tr td pre \r\n",
       "{ \r\n",
       "    vertical-align: top !important; \r\n",
       "    margin: 0em 0px !important;\r\n",
       "} \r\n",
       "table th {\r\n",
       "    text-align: start;\r\n",
       "}\r\n",
       "</style>"
      ]
     },
     "execution_count": 41,
     "metadata": {},
     "output_type": "execute_result"
    }
   ],
   "source": [
    "// Test point\n",
    "double x = 1, y = 1;\n",
    "\n",
    "// Rectangle 1: lower left (0.3, 0.5), upper right (1.1, 0.7)\n",
    "double x1 = 0.3, y1 = 0.5, x2 = 1.1, y2 = 0.7;\n",
    "\n",
    "// Rectangle 2: lower left (0.5, 0.2), upper right (1.1, 2)\n",
    "double x3 = 0.5, y3 = 0.2, x4 = 1.1, y4 = 2;\n",
    "\n",
    "// Check if the point is inside Rectangle 1\n",
    "bool isInRectangle1 = inside(x, y, x1, y1, x2, y2);\n",
    "\n",
    "inside(x, y, x1, y1, x2, y2)"
   ]
  },
  {
   "cell_type": "code",
   "execution_count": 43,
   "id": "1efcc28e-d1da-40de-992a-f6ec07b2253f",
   "metadata": {},
   "outputs": [
    {
     "data": {
      "text/html": [
       "<div class=\"dni-plaintext\"><pre>True</pre></div><style>\r\n",
       ".dni-code-hint {\r\n",
       "    font-style: italic;\r\n",
       "    overflow: hidden;\r\n",
       "    white-space: nowrap;\r\n",
       "}\r\n",
       ".dni-treeview {\r\n",
       "    white-space: nowrap;\r\n",
       "}\r\n",
       ".dni-treeview td {\r\n",
       "    vertical-align: top;\r\n",
       "    text-align: start;\r\n",
       "}\r\n",
       "details.dni-treeview {\r\n",
       "    padding-left: 1em;\r\n",
       "}\r\n",
       "table td {\r\n",
       "    text-align: start;\r\n",
       "}\r\n",
       "table tr { \r\n",
       "    vertical-align: top; \r\n",
       "    margin: 0em 0px;\r\n",
       "}\r\n",
       "table tr td pre \r\n",
       "{ \r\n",
       "    vertical-align: top !important; \r\n",
       "    margin: 0em 0px !important;\r\n",
       "} \r\n",
       "table th {\r\n",
       "    text-align: start;\r\n",
       "}\r\n",
       "</style>"
      ]
     },
     "execution_count": 43,
     "metadata": {},
     "output_type": "execute_result"
    }
   ],
   "source": [
    "// Check if the point is inside Rectangle 2\n",
    "bool isInRectangle2 = inside(x, y, x3, y3, x4, y4);\n",
    "\n",
    "inside(x, y, x3, y3, x4, y4)"
   ]
  },
  {
   "cell_type": "code",
   "execution_count": 47,
   "id": "74ee6303-6b05-4060-8587-05d36bf59d15",
   "metadata": {},
   "outputs": [
    {
     "data": {
      "text/html": [
       "<div class=\"dni-plaintext\"><pre>False</pre></div><style>\r\n",
       ".dni-code-hint {\r\n",
       "    font-style: italic;\r\n",
       "    overflow: hidden;\r\n",
       "    white-space: nowrap;\r\n",
       "}\r\n",
       ".dni-treeview {\r\n",
       "    white-space: nowrap;\r\n",
       "}\r\n",
       ".dni-treeview td {\r\n",
       "    vertical-align: top;\r\n",
       "    text-align: start;\r\n",
       "}\r\n",
       "details.dni-treeview {\r\n",
       "    padding-left: 1em;\r\n",
       "}\r\n",
       "table td {\r\n",
       "    text-align: start;\r\n",
       "}\r\n",
       "table tr { \r\n",
       "    vertical-align: top; \r\n",
       "    margin: 0em 0px;\r\n",
       "}\r\n",
       "table tr td pre \r\n",
       "{ \r\n",
       "    vertical-align: top !important; \r\n",
       "    margin: 0em 0px !important;\r\n",
       "} \r\n",
       "table th {\r\n",
       "    text-align: start;\r\n",
       "}\r\n",
       "</style>"
      ]
     },
     "execution_count": 47,
     "metadata": {},
     "output_type": "execute_result"
    }
   ],
   "source": [
    "// Check if the point is in both rectangles\n",
    "bool result = isInRectangle1 && isInRectangle2;\n",
    "\n",
    "result"
   ]
  },
  {
   "cell_type": "markdown",
   "id": "774b945e-2427-45e0-a444-db333196200d",
   "metadata": {},
   "source": [
    "###  - - - - - - - - - - - - - - - - - - - - - - - -  Switch to Python kernel  - - - - - - - - - - - - - - - - - - - - - - - -"
   ]
  },
  {
   "cell_type": "markdown",
   "id": "70191404-db25-442e-b872-99d66c5d6e3a",
   "metadata": {},
   "source": [
    "## Question 6 Python"
   ]
  },
  {
   "cell_type": "code",
   "execution_count": 1,
   "id": "50db88a2-c997-42ab-9fed-6487ea25c702",
   "metadata": {
    "tags": [],
    "vscode": {
     "languageId": "csharp"
    }
   },
   "outputs": [
    {
     "data": {
      "text/plain": [
       "'appyhay'"
      ]
     },
     "execution_count": 1,
     "metadata": {},
     "output_type": "execute_result"
    }
   ],
   "source": [
    "def pig(word):\n",
    "    # Convert the word to lower case\n",
    "    word = word.lower()\n",
    "    \n",
    "    # If the first letter is a vowel\n",
    "    if word[0] in 'aeiou':\n",
    "        return word + 'way'\n",
    "    else:\n",
    "        # If it starts with a consonant\n",
    "        return word[1:] + word[0] + 'ay'\n",
    "\n",
    "# Output\n",
    "pig('happy')"
   ]
  },
  {
   "cell_type": "code",
   "execution_count": 2,
   "id": "f19c448b-0c4f-44ce-b2c3-8aacbd7119f0",
   "metadata": {},
   "outputs": [
    {
     "data": {
      "text/plain": [
       "'enterway'"
      ]
     },
     "execution_count": 2,
     "metadata": {},
     "output_type": "execute_result"
    }
   ],
   "source": [
    "pig('Enter')"
   ]
  },
  {
   "cell_type": "markdown",
   "id": "aa846ae4-3193-448f-981d-fbab68ef5141",
   "metadata": {},
   "source": [
    "## Question 7 Python"
   ]
  },
  {
   "cell_type": "code",
   "execution_count": 6,
   "id": "9604f9f5-2d60-4809-8546-be2489d626e5",
   "metadata": {
    "tags": []
   },
   "outputs": [
    {
     "name": "stdout",
     "output_type": "stream",
     "text": [
      "There are 15 patients of blood type A.\n",
      "There is one patient of blood type B.\n",
      "There are 13 patients of blood type AB.\n",
      "There are 15 patients of blood type O.\n",
      "There are no patients of blood type OO.\n"
     ]
    }
   ],
   "source": [
    "def bldcount(filename):\n",
    "    \n",
    "    # Initialize patients counts to 0 of each blood type\n",
    "    blood_types = {\n",
    "        'A': 0,\n",
    "        'B': 0,\n",
    "        'AB': 0,\n",
    "        'O': 0,\n",
    "        'OO': 0\n",
    "    }\n",
    "    \n",
    "    # Read the input file and count the blood types\n",
    "    try:\n",
    "        with open(filename, 'r') as file:\n",
    "            # Read the content and split it into a list of blood types\n",
    "            types = file.read().strip().split()\n",
    "        \n",
    "        # Count each blood type\n",
    "        for blood_type in types:\n",
    "            if blood_type in blood_types:\n",
    "                blood_types[blood_type] += 1\n",
    "        \n",
    "        # Print the results\n",
    "        for blood_type, count in blood_types.items():\n",
    "            if count == 1:\n",
    "                print(f\"There is one patient of blood type {blood_type}.\")\n",
    "            elif count > 1:\n",
    "                print(f\"There are {count} patients of blood type {blood_type}.\")\n",
    "            else:\n",
    "                print(f\"There are no patients of blood type {blood_type}.\")\n",
    "    \n",
    "    except FileNotFoundError:\n",
    "        print(f\"The file {filename} was not found.\")\n",
    "    except Exception as e:\n",
    "        print(f\"An error occurred: {e}\")\n",
    "\n",
    "# Output\n",
    "bldcount('bloodtype1.txt')"
   ]
  },
  {
   "cell_type": "markdown",
   "id": "5bb71038-9816-4250-b805-7b7765f41118",
   "metadata": {},
   "source": [
    "## Question 8 Python"
   ]
  },
  {
   "cell_type": "code",
   "execution_count": 9,
   "id": "fa84bfe4-67bb-4c87-8322-ae3d6df2b38e",
   "metadata": {
    "tags": []
   },
   "outputs": [
    {
     "data": {
      "text/plain": [
       "122.96544"
      ]
     },
     "execution_count": 9,
     "metadata": {},
     "output_type": "execute_result"
    }
   ],
   "source": [
    "def curconv(currency, amount):\n",
    "    # Initialize a dictionary to hold currency conversion rates\n",
    "    conversion_rates = {}\n",
    "\n",
    "    # Read the conversion rates from the file\n",
    "    try:\n",
    "        with open('currencies.txt', 'r') as file:\n",
    "            for line in file:\n",
    "                # Split the line into components\n",
    "                parts = line.strip().split('\\t')\n",
    "                # Extract the currency code and the conversion rate\n",
    "                if len(parts) >= 2:\n",
    "                    code = parts[0]\n",
    "                    rate = float(parts[1])\n",
    "                    conversion_rates[code] = rate\n",
    "\n",
    "        # Check if the currency code exists in the conversion rates\n",
    "        if currency in conversion_rates:\n",
    "            # Convert the amount to US dollars\n",
    "            return amount * conversion_rates[currency]\n",
    "        else:\n",
    "            raise ValueError(\"Currency not found.\")\n",
    "    \n",
    "    except FileNotFoundError:\n",
    "        print(\"The file currencies.txt was not found.\")\n",
    "    except Exception as e:\n",
    "        print(f\"An error occurred: {e}\")\n",
    "\n",
    "# Output\n",
    "curconv('EUR', 100)"
   ]
  },
  {
   "cell_type": "code",
   "execution_count": 11,
   "id": "7d8f92da-07c7-4e30-8f34-44f0ddf40665",
   "metadata": {},
   "outputs": [
    {
     "data": {
      "text/plain": [
       "1.241401"
      ]
     },
     "execution_count": 11,
     "metadata": {},
     "output_type": "execute_result"
    }
   ],
   "source": [
    "curconv('JPY', 100)"
   ]
  },
  {
   "cell_type": "markdown",
   "id": "90b172a2-a990-4236-89a4-aee177611658",
   "metadata": {},
   "source": [
    "## Question 9 Python"
   ]
  },
  {
   "cell_type": "markdown",
   "id": "236a9d30-a316-4321-9834-bf1e2c47d1c5",
   "metadata": {},
   "source": [
    "#### 1. Incompatible Variable Types"
   ]
  },
  {
   "cell_type": "code",
   "execution_count": 15,
   "id": "5de4376b-3493-4b85-9785-90521fcd91c7",
   "metadata": {
    "scrolled": true,
    "tags": []
   },
   "outputs": [
    {
     "name": "stdout",
     "output_type": "stream",
     "text": [
      "Error : TypeError - unsupported operand type(s) for +: 'int' and 'str'\n"
     ]
    }
   ],
   "source": [
    "try:\n",
    "    result = 6 + 'a'\n",
    "except Exception as e:\n",
    "    print(f\"Error : {type(e).__name__} - {e}\")"
   ]
  },
  {
   "cell_type": "markdown",
   "id": "a0c84331-51eb-4b63-b455-832f1eb311bc",
   "metadata": {},
   "source": [
    "#### 2. Index Out of Range"
   ]
  },
  {
   "cell_type": "code",
   "execution_count": 18,
   "id": "9d4aa5cd-4a4d-48d9-92c3-0ace4d16c3a0",
   "metadata": {
    "tags": []
   },
   "outputs": [
    {
     "name": "stdout",
     "output_type": "stream",
     "text": [
      "Error : IndexError - list index out of range\n"
     ]
    }
   ],
   "source": [
    "my_list = [0, 1, 2, 3, 4, 5, 6, 7, 8, 9]\n",
    "try:\n",
    "    item = my_list[11]\n",
    "except Exception as e:\n",
    "    print(f\"Error : {type(e).__name__} - {e}\")"
   ]
  },
  {
   "cell_type": "markdown",
   "id": "27eef72c-cd3f-45db-9353-5d88fbc16379",
   "metadata": {},
   "source": [
    "#### 3. Value Out of Range for Function Input"
   ]
  },
  {
   "cell_type": "code",
   "execution_count": 21,
   "id": "1ff64451-3e5b-4dd6-bd5c-1413d4daa820",
   "metadata": {
    "tags": []
   },
   "outputs": [
    {
     "name": "stdout",
     "output_type": "stream",
     "text": [
      "Error : ValueError - math domain error\n"
     ]
    }
   ],
   "source": [
    "import math\n",
    "try:\n",
    "    result = math.sqrt(-1.0)\n",
    "except Exception as e:\n",
    "    print(f\"Error : {type(e).__name__} - {e}\")"
   ]
  },
  {
   "cell_type": "markdown",
   "id": "ed53094b-97d5-4f21-9f0f-7cfebf7d5270",
   "metadata": {},
   "source": [
    "#### 4. Undeclared Variable"
   ]
  },
  {
   "cell_type": "code",
   "execution_count": 24,
   "id": "6c4868d7-702e-4af8-97ae-2e04415a3d1e",
   "metadata": {
    "scrolled": true,
    "tags": []
   },
   "outputs": [
    {
     "name": "stdout",
     "output_type": "stream",
     "text": [
      "Error : NameError - name 'x' is not defined\n"
     ]
    }
   ],
   "source": [
    "try:\n",
    "    print(x)\n",
    "except Exception as e:\n",
    "    print(f\"Error : {type(e).__name__} - {e}\")"
   ]
  },
  {
   "cell_type": "markdown",
   "id": "fc88290b-a077-4cd9-a9f4-e3f6bf8a9243",
   "metadata": {},
   "source": [
    "#### 5. File Not Found"
   ]
  },
  {
   "cell_type": "code",
   "execution_count": 27,
   "id": "5690f04d-f2da-43c1-b941-afd614fa2675",
   "metadata": {
    "tags": []
   },
   "outputs": [
    {
     "name": "stdout",
     "output_type": "stream",
     "text": [
      "Error : FileNotFoundError - [Errno 2] No such file or directory: 'missing_file.txt'\n"
     ]
    }
   ],
   "source": [
    "try:\n",
    "    with open('missing_file.txt') as f:\n",
    "        content = f.read()\n",
    "except Exception as e:\n",
    "    print(f\"Error : {type(e).__name__} - {e}\")"
   ]
  },
  {
   "cell_type": "markdown",
   "id": "79ad838e-3acc-4baa-889b-b36761cb8047",
   "metadata": {},
   "source": [
    "## Question 10 Python"
   ]
  },
  {
   "cell_type": "code",
   "execution_count": 30,
   "id": "ca054018-d262-43fc-8bcb-e3e6045fafd8",
   "metadata": {
    "tags": []
   },
   "outputs": [
    {
     "data": {
      "text/plain": [
       "[1, 1, 1, 3, 5, 1, 1, 2, 1, 0, 1, 0, 1, 2, 4, 0, 1, 2, 0, 3, 1, 0, 1, 1, 0, 0]"
      ]
     },
     "execution_count": 30,
     "metadata": {},
     "output_type": "execute_result"
    }
   ],
   "source": [
    "def frequencies(text):\n",
    "    # Initialize a list of 26 zeros for each letter in the alphabet\n",
    "    freq = [0] * 26\n",
    "    \n",
    "    # Iterate over each character in the input string\n",
    "    for char in text.lower():\n",
    "        if char.isalpha():  # Check if the character is a letter\n",
    "            index = ord(char) - ord('a')  # Calculate the index for the letter\n",
    "            freq[index] += 1  # Increment the count for the corresponding letter\n",
    "            \n",
    "    return freq\n",
    "\n",
    "# Output\n",
    "frequencies('The quick red fox got bored and went home.')"
   ]
  },
  {
   "cell_type": "code",
   "execution_count": 32,
   "id": "c5311e15-d311-4570-b846-d7a3d2d4f26a",
   "metadata": {},
   "outputs": [
    {
     "data": {
      "text/plain": [
       "[1, 0, 0, 0, 1, 0, 0, 0, 0, 0, 0, 1, 0, 0, 0, 2, 0, 0, 0, 0, 0, 0, 0, 0, 0, 0]"
      ]
     },
     "execution_count": 32,
     "metadata": {},
     "output_type": "execute_result"
    }
   ],
   "source": [
    "frequencies('apple')"
   ]
  },
  {
   "cell_type": "code",
   "execution_count": null,
   "id": "3bccf875-b262-4064-a29f-c5f4684335fd",
   "metadata": {},
   "outputs": [],
   "source": []
  }
 ],
 "metadata": {
  "kernelspec": {
   "display_name": ".NET (C#)",
   "language": "C#",
   "name": ".net-csharp"
  },
  "language_info": {
   "file_extension": ".cs",
   "mimetype": "text/x-csharp",
   "name": "C#",
   "pygments_lexer": "csharp",
   "version": "12.0"
  }
 },
 "nbformat": 4,
 "nbformat_minor": 5
}
